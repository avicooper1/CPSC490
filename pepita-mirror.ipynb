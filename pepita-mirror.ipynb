{
 "cells": [
  {
   "cell_type": "code",
   "execution_count": 15,
   "id": "e9a2bd6b",
   "metadata": {},
   "outputs": [],
   "source": [
    "import numpy as np\n",
    "import pandas as pd\n",
    "import torch\n",
    "import torch.nn as nn\n",
    "import torchvision\n",
    "%matplotlib widget\n",
    "import matplotlib.pyplot as plt\n",
    "from matplotlib.patches import Patch\n",
    "import matplotlib.colors as mcolors\n",
    "import seaborn as sns\n",
    "from tqdm.notebook import tqdm\n",
    "import os\n",
    "sns.set()\n",
    "import functools\n",
    "import pickle\n",
    "import itertools\n",
    "import sys"
   ]
  },
  {
   "cell_type": "code",
   "execution_count": 19,
   "id": "3ea31924-6fee-43cf-bcfb-5874e1ef0238",
   "metadata": {},
   "outputs": [],
   "source": [
    "experiments = list(itertools.product(*[\n",
    "    ['sgd', 'mom'], # update algorithms\n",
    "    [False, True], # mirroring\n",
    "    [[32 * 32 * 3, 1024, 10], [32 * 32 * 3, 1024, 512, 512, 10]], # network [[32 * 32 * 3, 1024, 10], [32 * 32 * 3, 1024, 512, 512, 10]]layers\n",
    "    run_num]))# run number"
   ]
  },
  {
   "cell_type": "code",
   "execution_count": 21,
   "id": "9201bcfc-3ca4-42b9-8740-51e75485da9b",
   "metadata": {},
   "outputs": [],
   "source": [
    "exp_parameters = experiments[sys.argv[1]]\n",
    "update_algorithm, mirroring, network_layers, run_num = exp_parameters"
   ]
  },
  {
   "cell_type": "code",
   "execution_count": null,
   "id": "f6b04a06-d8dd-450c-8e0d-b016dceedb71",
   "metadata": {},
   "outputs": [],
   "source": [
    "exp_dir = "
   ]
  },
  {
   "cell_type": "code",
   "execution_count": null,
   "id": "0cf246af-d5e4-48d8-8690-1e01063d4146",
   "metadata": {},
   "outputs": [],
   "source": []
  },
  {
   "cell_type": "code",
   "execution_count": 23,
   "id": "52804abe-5649-4a60-b699-e6a6897634a1",
   "metadata": {},
   "outputs": [
    {
     "name": "stdout",
     "output_type": "stream",
     "text": [
      "Files already downloaded and verified\n",
      "Files already downloaded and verified\n"
     ]
    }
   ],
   "source": [
    "batch_size = 64\n",
    "\n",
    "transforms = torchvision.transforms.Compose([\n",
    "                torchvision.transforms.ToTensor(),\n",
    "                # torchvision.transforms.Normalize((0.1307,), (0.3081,)),\n",
    "                torchvision.transforms.Normalize((0.4914, 0.4822, 0.4465), (0.247, 0.243, 0.261)),\n",
    "                torchvision.transforms.Lambda(lambda x: x.flatten())])\n",
    "\n",
    "\n",
    "train_dataset = torchvision.datasets.CIFAR10('./cifar10/', train=True, download=True, transform=transforms)\n",
    "test_dataset = torchvision.datasets.CIFAR10('./cifar10/', train=False, download=True, transform=transforms)\n",
    "\n",
    "train_loader = torch.utils.data.DataLoader(train_dataset, batch_size=batch_size, shuffle=True, pin_memory=False, num_workers=4)\n",
    "test_loader = torch.utils.data.DataLoader(test_dataset, batch_size=batch_size, shuffle=True, pin_memory=False, num_workers=4)"
   ]
  },
  {
   "cell_type": "code",
   "execution_count": 24,
   "id": "11a5da1c-1d16-4149-8a53-28d1a4f510e2",
   "metadata": {},
   "outputs": [],
   "source": [
    "colors = list(mcolors.TABLEAU_COLORS)\n",
    "\n",
    "def setup_axis(ax, num_epochs, title, data_shape, weights=False):\n",
    "    ax.set_xlim(0, num_epochs - 1)\n",
    "    ax.set_title(title)\n",
    "    \n",
    "    if weights:\n",
    "        d = np.empty(data_shape)\n",
    "        d[:] = np.nan\n",
    "        data = {}\n",
    "        for s in ['mean', 'std', 'max', 'min']:\n",
    "            data[s] = d.copy()\n",
    "        plot = []\n",
    "        legend_elements = []\n",
    "        for i in range(data_shape[1]):\n",
    "            label = f'Layer {i}'\n",
    "            mean_line = ax.plot(data['mean'][:,i], label=label, c=colors[i])[0]\n",
    "            max_line = ax.plot(data['max'][:,i], c=colors[i], dashes=[6,2])[0]\n",
    "            min_line = ax.plot(data['min'][:,i], c=colors[i], dashes=[6,2])[0]\n",
    "            plot.append((mean_line, max_line, min_line))\n",
    "            legend_elements.append(Patch(facecolor=colors[i], label=label))\n",
    "\n",
    "        ax.legend(handles=legend_elements, loc='upper right')\n",
    "        \n",
    "    else:\n",
    "        data = np.empty(data_shape)\n",
    "        data[:] = np.nan\n",
    "        plot = ax.plot(data)\n",
    "    \n",
    "    return data, plot\n",
    "\n",
    "def log_data(data, new_data, epoch, simple_avg=False):\n",
    "    data['mean'][epoch] = [torch.mean(layer).cpu() for layer in new_data]\n",
    "    data['std'][epoch] = [torch.std(layer).cpu() for layer in new_data]\n",
    "    data['max'][epoch] = [torch.max(layer).cpu() for layer in new_data]\n",
    "    data['min'][epoch] = [torch.min(layer).cpu() for layer in new_data]\n",
    "\n",
    "def set_axis_data(ax, p, data, data_std, num_epochs, simple_avg=False):\n",
    "        ax.collections.clear()\n",
    "        \n",
    "        if type(data) == dict:\n",
    "            for i, line_set in enumerate(p):\n",
    "                if not simple_avg:\n",
    "                    for j, name in enumerate(['mean', 'max', 'min']):\n",
    "                        line_set[j].set_ydata(data[name][:,i])\n",
    "                    ax.fill_between(range(num_epochs), data['mean'][:,i] - data['std'][:,i], data['mean'][:,i] + data['std'][:,i], color=colors[i], alpha=0.2)\n",
    "                else:\n",
    "                    line_set[0].set_ydata(data['mean'][:,i])\n",
    "        else:\n",
    "            p[0].set_ydata(data)\n",
    "            ax.fill_between(range(num_epochs), data - (data_std * 3), data + (data_std * 3), alpha=0.2)\n",
    "            \n",
    "        ax.relim()\n",
    "        ax.autoscale()\n",
    "        ax.set_xlim(0, num_epochs - 1)"
   ]
  },
  {
   "cell_type": "code",
   "execution_count": 25,
   "id": "0c7da235-aa7d-4fe9-8577-82c1e19ff838",
   "metadata": {},
   "outputs": [
    {
     "ename": "NameError",
     "evalue": "name 'weights' is not defined",
     "output_type": "error",
     "traceback": [
      "\u001b[0;31m---------------------------------------------------------------------------\u001b[0m",
      "\u001b[0;31mNameError\u001b[0m                                 Traceback (most recent call last)",
      "Input \u001b[0;32mIn [25]\u001b[0m, in \u001b[0;36m<cell line: 1>\u001b[0;34m()\u001b[0m\n\u001b[0;32m----> 1\u001b[0m net_stats \u001b[38;5;241m=\u001b[39m {\u001b[38;5;124m'\u001b[39m\u001b[38;5;124mweights\u001b[39m\u001b[38;5;124m'\u001b[39m: \u001b[43mweights\u001b[49m, \u001b[38;5;124m'\u001b[39m\u001b[38;5;124mactivations\u001b[39m\u001b[38;5;124m'\u001b[39m: activations}\n",
      "\u001b[0;31mNameError\u001b[0m: name 'weights' is not defined"
     ]
    }
   ],
   "source": [
    "net_stats = {'weights': weights, 'activations': activations}"
   ]
  },
  {
   "cell_type": "code",
   "execution_count": 43,
   "id": "310e0ab6-6c81-4e8b-84ea-eec01305a82a",
   "metadata": {},
   "outputs": [],
   "source": [
    "with open('net_stats.pkl', 'wb') as f:\n",
    "    pickle.dump(net_stats, f)"
   ]
  },
  {
   "cell_type": "code",
   "execution_count": 6,
   "id": "8f70e047-24c9-4324-b791-34788deb5d3f",
   "metadata": {},
   "outputs": [],
   "source": [
    "def train(net, train_loader, num_epochs, test_loader=None, num_mirrors=32):\n",
    "    \n",
    "    torch.manual_seed(0)\n",
    "    \n",
    "    criterion = nn.CrossEntropyLoss()\n",
    "    \n",
    "    plt.close('all')\n",
    "    fig, axes = plt.subplots(1, 5, figsize=(20, 3))\n",
    "    hfig = display(fig, display_id=True)\n",
    "    \n",
    "    weights, weights_plot = setup_axis(axes[0], num_epochs, \"Weights\", (num_epochs, len(net.weights)), True)\n",
    "    b_weights, b_weights_plot = setup_axis(axes[1], num_epochs, \"B Matrix\", (num_epochs, len(net.B_weights)), True)\n",
    "    activations, activations_plot = setup_axis(axes[2], num_epochs, \"Activations\", (num_epochs, len(net.activations)), True)\n",
    "    deltas, deltas_plot = setup_axis(axes[3], num_epochs, \"Matrix Deltas\", (num_epochs, len(net.weights)), True)\n",
    "    accuracies, accuracies_plot = setup_axis(axes[4], num_epochs, \"Accuracy\", (num_epochs))\n",
    "    accuracies_stds = accuracies.copy()\n",
    "    \n",
    "    with torch.no_grad():\n",
    "\n",
    "        net.mirror(2)\n",
    "        for epoch in tqdm(range(num_epochs), desc=\"Epoch\"):\n",
    "\n",
    "            with tqdm(total=len(train_loader) + len(test_loader), leave=False, desc=\"Batch\") as pbar:\n",
    "                running_loss = 0\n",
    "                \n",
    "                batch_deltas = torch.zeros((len(net.layers), len(train_loader)))\n",
    "\n",
    "                for batch_idx, (data, targets) in enumerate(train_loader):\n",
    "\n",
    "                    if torch.cuda.is_available():\n",
    "                        data = data.cuda()\n",
    "                        targets = targets.cuda()\n",
    "                        \n",
    "                    y = net(data, True, True)\n",
    "\n",
    "                    one_hot = nn.functional.one_hot(targets, num_classes=10)\n",
    "\n",
    "                    net.update(data, y - one_hot)\n",
    "                    batch_deltas[:, batch_idx] = net.mirror(1)\n",
    "\n",
    "                    running_loss += criterion(y, targets) / data.shape[0]\n",
    "                    pbar.update(1)\n",
    "                    \n",
    "                net.decay(epoch)\n",
    "\n",
    "                log_data(weights, net.weights, epoch)\n",
    "                log_data(b_weights, net.B_weights, epoch)\n",
    "                log_data(activations, net.get_activations(), epoch)\n",
    "                log_data(deltas, batch_deltas, epoch)\n",
    "\n",
    "                test_means = np.zeros(len(test_loader))\n",
    "\n",
    "                for batch_idx, (data, targets) in enumerate(test_loader):\n",
    "\n",
    "                    if torch.cuda.is_available():\n",
    "                        data = data.to('cuda')\n",
    "                        targets = targets.to('cuda')\n",
    "\n",
    "                    test_means[batch_idx] = torch.mean((targets == torch.argmax(net(data), axis=1)).float()).cpu()\n",
    "                    pbar.update(1)\n",
    "\n",
    "                accuracies[epoch] = np.mean(test_means)\n",
    "                accuracies_stds[epoch] = np.std(test_means)\n",
    "\n",
    "                set_axis_data(axes[0], weights_plot, weights, None, num_epochs)\n",
    "                set_axis_data(axes[1], b_weights_plot, b_weights, None, num_epochs)\n",
    "                set_axis_data(axes[2], activations_plot, activations, None, num_epochs)\n",
    "                set_axis_data(axes[3], deltas_plot, deltas, None, num_epochs, simple_avg=True)\n",
    "                set_axis_data(axes[4], accuracies_plot, accuracies, accuracies_stds, num_epochs)\n",
    "\n",
    "                fig.canvas.draw()\n",
    "                hfig.update(fig)\n",
    "                \n",
    "                \n",
    "def angle_between(A, B):\n",
    "    flat_A = A.flatten()\n",
    "    normalized_flat_A = flat_A / torch.linalg.norm(flat_A)\n",
    "\n",
    "    flat_B = B.flatten()\n",
    "    normalized_flat_B = flat_B / torch.linalg.norm(flat_B)\n",
    "\n",
    "    angle = (180.0 / torch.pi) * torch.arccos(torch.clip(torch.dot(normalized_flat_A, normalized_flat_B), -1.0, 1.0))\n",
    "    return angle\n",
    "\n",
    "def mat_stats(name, mat):\n",
    "    print(f'{name}: {torch.mean(mat[x])} {torch.std(mat[x])} {torch.max(mat[x])} {torch.min(mat[x])}')"
   ]
  },
  {
   "cell_type": "code",
   "execution_count": 7,
   "id": "4221d36c-035a-45e7-a9a9-1be39a5e38d3",
   "metadata": {},
   "outputs": [],
   "source": [
    "def generate_layer(in_size, out_size, activation=True):\n",
    "    w = nn.Linear(in_size, out_size, bias=False)\n",
    "    a = nn.ReLU()\n",
    "    \n",
    "    w_limit = np.sqrt(6.0 / in_size)\n",
    "    torch.nn.init.uniform_(w.weight, a=-w_limit, b=w_limit)\n",
    "    \n",
    "    if not activation:\n",
    "        w.weight *= 0.05\n",
    "    \n",
    "    return nn.Sequential(w, a) if activation else w\n",
    "\n",
    "def collect_activations(model, l):\n",
    "    def hook(self, input, output):\n",
    "        model.activations[l] = output.detach()\n",
    "    return hook\n",
    "\n",
    "def angle_between(A, B):\n",
    "    flat_A = A.flatten()\n",
    "    normalized_flat_A = flat_A / torch.linalg.norm(flat_A)\n",
    "\n",
    "    flat_B = B.flatten()\n",
    "    normalized_flat_B = flat_B / torch.linalg.norm(flat_B)\n",
    "\n",
    "    return (180.0 / torch.pi) * torch.arccos(torch.clip(torch.dot(normalized_flat_A, normalized_flat_B), -1.0, 1.0))\n",
    "\n",
    "class FCNet(nn.Module):\n",
    "\n",
    "    @torch.no_grad()\n",
    "    def __init__(self, layer_sizes, learning_rate=0.01, decay_epochs=[60], update_algo='sgd', dropout=0.9, mirroring=True, final_layer=True):\n",
    "        super(FCNet, self).__init__()\n",
    "        \n",
    "        self.learning_rate = learning_rate\n",
    "        self.decay_epochs = decay_epochs\n",
    "            \n",
    "        self.mirroring = mirroring\n",
    "        \n",
    "        self.layer_sizes = layer_sizes\n",
    "        self.layers_list = [generate_layer(in_size, out_size) for in_size, out_size in zip(layer_sizes, layer_sizes[1:-1])]\n",
    "        self.layers_list.append(nn.Sequential(generate_layer(layer_sizes[-2], layer_sizes[-1], activation=False), nn.Softmax(dim=1) if final_layer else nn.ReLU()))\n",
    "        \n",
    "        self.layers = nn.Sequential(*self.layers_list)\n",
    "        \n",
    "        self.weights = [layer[0].weight for layer in self.layers]\n",
    "        \n",
    "        self.activations = [None] * len(self.layers)\n",
    "        \n",
    "        for l, layer in enumerate(self.layers):\n",
    "            layer.register_forward_hook(collect_activations(self, l))\n",
    "            \n",
    "        self.B = [generate_layer(out_size, in_size, activation=False) for in_size, out_size in reversed(list(zip(layer_sizes, layer_sizes[1:])))] #[generate_layer(layer_sizes[-1], layer_sizes[0], activation=False)]\n",
    "        self.B_layers = nn.Sequential(*self.B)\n",
    "        self.B_weights = [b.weight for b in self.B]\n",
    "        self.noises = [0.1 * (torch.randn(batch_size, self.weights[i].shape[1]).cuda()) for i in range(len(self.layers))]\n",
    "        \n",
    "        self.update_algo = update_algo\n",
    "        if self.update_algo == 'mom':\n",
    "            self.gamma = 0.9\n",
    "            self.prev_update = [torch.zeros(weight.shape).cuda() for weight in self.weights]\n",
    "            \n",
    "        self.dropout = dropout\n",
    "        self.do_masks = [None] * len(self.layers_list)\n",
    "        \n",
    "        if torch.cuda.is_available():\n",
    "            self.cuda()\n",
    "        \n",
    "    @torch.no_grad()\n",
    "    def get_activations(self):\n",
    "        try:\n",
    "            return [activations.clone() for activations in self.activations]\n",
    "        except:\n",
    "            return None\n",
    "        \n",
    "    @torch.no_grad()        \n",
    "    def forward(self, x, mask=False, new_masks=False):\n",
    "        for l, layer in enumerate(self.layers_list):\n",
    "            x = layer(x)\n",
    "            if mask and l != len(self.layers_list) - 1:\n",
    "                if new_masks:\n",
    "                    dropout_mask = torch.bernoulli(torch.ones(x.shape) * self.dropout).cuda() / self.dropout\n",
    "                    self.do_masks[l] = dropout_mask\n",
    "                else:\n",
    "                    dropout_mask = self.do_masks[l]\n",
    "                x *= dropout_mask\n",
    "        return x\n",
    "\n",
    "    @torch.no_grad()\n",
    "    def decay(self, epoch):\n",
    "        if epoch in self.decay_epochs:\n",
    "            self.learning_rate *= 0.1\n",
    "    \n",
    "    @torch.no_grad()\n",
    "    def update(self, x, e, first_block=True, last_block=True):\n",
    "        if first_block:\n",
    "            hl_err = x + self.B_layers(e)\n",
    "        else:\n",
    "            hl_err = x\n",
    "\n",
    "        forward_activations = self.get_activations()\n",
    "        modulated_forward = self.forward(hl_err, True)\n",
    "        modulated_activations = self.get_activations()\n",
    "        \n",
    "        for l, layer in enumerate(self.layers):\n",
    "            if (l == len(self.layers) - 1) and last_block:\n",
    "                dwl = -e.T @ (modulated_activations[l - 1] if l != 0 else x)\n",
    "            else:\n",
    "                dwl = -(forward_activations[l] - modulated_activations[l]).T @ (modulated_activations[l - 1] if l != 0 else hl_err)\n",
    "            \n",
    "            w_update = self.learning_rate * dwl / batch_size\n",
    "            if self.update_algo == 'mom':\n",
    "                self.prev_update[l] = (self.gamma * self.prev_update[l]) + w_update\n",
    "                w_update = self.prev_update[l]\n",
    "                \n",
    "            layer[0].weight += w_update\n",
    "    \n",
    "    @torch.no_grad()\n",
    "    def mirror(self, n_reps=1, X_shape=None, mirror_learning_rate=0.01):\n",
    "        deltas = []\n",
    "        for _ in range(n_reps):\n",
    "            for i, (layer, b_layer) in enumerate(zip(self.layers, reversed(self.B_layers))):\n",
    "\n",
    "                if self.mirroring:\n",
    "                    noise = self.noises[i]\n",
    "                    dl = noise - torch.mean(noise)\n",
    "                    yl1 = torch.relu(self.layers[i][0](noise))\n",
    "                    dl1 = yl1 - torch.mean(yl1)\n",
    "                    b_layer.weight *= 0.5\n",
    "                    b_layer.weight += 0.01 * (noise.T @ yl1)#(dl.T @ dl1)\n",
    "                    \n",
    "                deltas.append(angle_between(layer[0].weight.T, b_layer.weight))\n",
    "        \n",
    "        return torch.tensor(deltas)"
   ]
  },
  {
   "cell_type": "code",
   "execution_count": 8,
   "id": "17cc0370-73b0-4333-86bb-a55ae0c21656",
   "metadata": {},
   "outputs": [
    {
     "data": {
      "image/png": "[encoded data removed]",
      "text/plain": [
       "<Figure size 2000x300 with 5 Axes>"
      ]
     },
     "metadata": {},
     "output_type": "display_data"
    },
    {
     "data": {
      "application/vnd.jupyter.widget-view+json": {
       "model_id": "46055ed6e5ac4daa80d0b4d2991ae788",
       "version_major": 2,
       "version_minor": 0
      },
      "text/plain": [
       "Epoch:   0%|          | 0/100 [00:00<?, ?it/s]"
      ]
     },
     "metadata": {},
     "output_type": "display_data"
    },
    {
     "data": {
      "application/vnd.jupyter.widget-view+json": {
       "model_id": "",
       "version_major": 2,
       "version_minor": 0
      },
      "text/plain": [
       "Batch:   0%|          | 0/939 [00:00<?, ?it/s]"
      ]
     },
     "metadata": {},
     "output_type": "display_data"
    },
    {
     "data": {
      "application/vnd.jupyter.widget-view+json": {
       "model_id": "",
       "version_major": 2,
       "version_minor": 0
      },
      "text/plain": [
       "Batch:   0%|          | 0/939 [00:00<?, ?it/s]"
      ]
     },
     "metadata": {},
     "output_type": "display_data"
    },
    {
     "data": {
      "application/vnd.jupyter.widget-view+json": {
       "model_id": "",
       "version_major": 2,
       "version_minor": 0
      },
      "text/plain": [
       "Batch:   0%|          | 0/939 [00:00<?, ?it/s]"
      ]
     },
     "metadata": {},
     "output_type": "display_data"
    },
    {
     "data": {
      "application/vnd.jupyter.widget-view+json": {
       "model_id": "",
       "version_major": 2,
       "version_minor": 0
      },
      "text/plain": [
       "Batch:   0%|          | 0/939 [00:00<?, ?it/s]"
      ]
     },
     "metadata": {},
     "output_type": "display_data"
    },
    {
     "data": {
      "application/vnd.jupyter.widget-view+json": {
       "model_id": "",
       "version_major": 2,
       "version_minor": 0
      },
      "text/plain": [
       "Batch:   0%|          | 0/939 [00:00<?, ?it/s]"
      ]
     },
     "metadata": {},
     "output_type": "display_data"
    },
    {
     "data": {
      "application/vnd.jupyter.widget-view+json": {
       "model_id": "",
       "version_major": 2,
       "version_minor": 0
      },
      "text/plain": [
       "Batch:   0%|          | 0/939 [00:00<?, ?it/s]"
      ]
     },
     "metadata": {},
     "output_type": "display_data"
    },
    {
     "data": {
      "application/vnd.jupyter.widget-view+json": {
       "model_id": "",
       "version_major": 2,
       "version_minor": 0
      },
      "text/plain": [
       "Batch:   0%|          | 0/939 [00:00<?, ?it/s]"
      ]
     },
     "metadata": {},
     "output_type": "display_data"
    },
    {
     "data": {
      "application/vnd.jupyter.widget-view+json": {
       "model_id": "",
       "version_major": 2,
       "version_minor": 0
      },
      "text/plain": [
       "Batch:   0%|          | 0/939 [00:00<?, ?it/s]"
      ]
     },
     "metadata": {},
     "output_type": "display_data"
    },
    {
     "data": {
      "application/vnd.jupyter.widget-view+json": {
       "model_id": "",
       "version_major": 2,
       "version_minor": 0
      },
      "text/plain": [
       "Batch:   0%|          | 0/939 [00:00<?, ?it/s]"
      ]
     },
     "metadata": {},
     "output_type": "display_data"
    },
    {
     "data": {
      "application/vnd.jupyter.widget-view+json": {
       "model_id": "",
       "version_major": 2,
       "version_minor": 0
      },
      "text/plain": [
       "Batch:   0%|          | 0/939 [00:00<?, ?it/s]"
      ]
     },
     "metadata": {},
     "output_type": "display_data"
    },
    {
     "data": {
      "application/vnd.jupyter.widget-view+json": {
       "model_id": "220970139ed24e8680deefdba3a09909",
       "version_major": 2,
       "version_minor": 0
      },
      "text/plain": [
       "Batch:   0%|          | 0/939 [00:00<?, ?it/s]"
      ]
     },
     "metadata": {},
     "output_type": "display_data"
    },
    {
     "ename": "KeyboardInterrupt",
     "evalue": "",
     "output_type": "error",
     "traceback": [
      "\u001b[0;31m---------------------------------------------------------------------------\u001b[0m",
      "\u001b[0;31mKeyboardInterrupt\u001b[0m                         Traceback (most recent call last)",
      "Input \u001b[0;32mIn [8]\u001b[0m, in \u001b[0;36m<cell line: 3>\u001b[0;34m()\u001b[0m\n\u001b[1;32m      1\u001b[0m \u001b[38;5;66;03m# net = FCNet([32 * 32 * 3, 1024, 1024, 512, 512, 256, 256, 10], Bstd=0.05)\u001b[39;00m\n\u001b[1;32m      2\u001b[0m net \u001b[38;5;241m=\u001b[39m FCNet([\u001b[38;5;241m32\u001b[39m \u001b[38;5;241m*\u001b[39m \u001b[38;5;241m32\u001b[39m \u001b[38;5;241m*\u001b[39m \u001b[38;5;241m3\u001b[39m, \u001b[38;5;241m1024\u001b[39m, \u001b[38;5;241m10\u001b[39m], mirroring\u001b[38;5;241m=\u001b[39m\u001b[38;5;28;01mTrue\u001b[39;00m, update_algo\u001b[38;5;241m=\u001b[39m\u001b[38;5;124m'\u001b[39m\u001b[38;5;124msgd\u001b[39m\u001b[38;5;124m'\u001b[39m)\n\u001b[0;32m----> 3\u001b[0m d \u001b[38;5;241m=\u001b[39m \u001b[43mtrain\u001b[49m\u001b[43m(\u001b[49m\u001b[43mnet\u001b[49m\u001b[43m,\u001b[49m\u001b[43m \u001b[49m\u001b[43mtrain_loader\u001b[49m\u001b[43m,\u001b[49m\u001b[43m \u001b[49m\u001b[38;5;241;43m100\u001b[39;49m\u001b[43m,\u001b[49m\u001b[43m \u001b[49m\u001b[43mtest_loader\u001b[49m\u001b[43m,\u001b[49m\u001b[43m \u001b[49m\u001b[38;5;241;43m2\u001b[39;49m\u001b[43m)\u001b[49m\n",
      "Input \u001b[0;32mIn [6]\u001b[0m, in \u001b[0;36mtrain\u001b[0;34m(net, train_loader, num_epochs, test_loader, num_mirrors)\u001b[0m\n\u001b[1;32m     29\u001b[0m running_loss \u001b[38;5;241m=\u001b[39m \u001b[38;5;241m0\u001b[39m\n\u001b[1;32m     31\u001b[0m batch_deltas \u001b[38;5;241m=\u001b[39m torch\u001b[38;5;241m.\u001b[39mzeros((\u001b[38;5;28mlen\u001b[39m(net\u001b[38;5;241m.\u001b[39mlayers), \u001b[38;5;28mlen\u001b[39m(train_loader)))\n\u001b[0;32m---> 33\u001b[0m \u001b[38;5;28;01mfor\u001b[39;00m batch_idx, (data, targets) \u001b[38;5;129;01min\u001b[39;00m \u001b[38;5;28menumerate\u001b[39m(train_loader):\n\u001b[1;32m     35\u001b[0m     \u001b[38;5;28;01mif\u001b[39;00m torch\u001b[38;5;241m.\u001b[39mcuda\u001b[38;5;241m.\u001b[39mis_available():\n\u001b[1;32m     36\u001b[0m         data \u001b[38;5;241m=\u001b[39m data\u001b[38;5;241m.\u001b[39mcuda()\n",
      "File \u001b[0;32m/gpfs/loomis/project/cpsc490/cpsc490_ac2788/conda_envs/pepita/lib/python3.9/site-packages/torch/utils/data/dataloader.py:543\u001b[0m, in \u001b[0;36m_BaseDataLoaderIter.__next__\u001b[0;34m(self)\u001b[0m\n\u001b[1;32m    539\u001b[0m         warn_msg \u001b[38;5;241m+\u001b[39m\u001b[38;5;241m=\u001b[39m (\u001b[38;5;124m\"\u001b[39m\u001b[38;5;124mFor multiprocessing data-loading, this could be caused by not properly configuring the \u001b[39m\u001b[38;5;124m\"\u001b[39m\n\u001b[1;32m    540\u001b[0m                      \u001b[38;5;124m\"\u001b[39m\u001b[38;5;124mIterableDataset replica at each worker. Please see \u001b[39m\u001b[38;5;124m\"\u001b[39m\n\u001b[1;32m    541\u001b[0m                      \u001b[38;5;124m\"\u001b[39m\u001b[38;5;124mhttps://pytorch.org/docs/stable/data.html#torch.utils.data.IterableDataset for examples.\u001b[39m\u001b[38;5;124m\"\u001b[39m)\n\u001b[1;32m    542\u001b[0m     warnings\u001b[38;5;241m.\u001b[39mwarn(warn_msg)\n\u001b[0;32m--> 543\u001b[0m \u001b[38;5;28;01mreturn\u001b[39;00m data\n",
      "File \u001b[0;32m/gpfs/loomis/project/cpsc490/cpsc490_ac2788/conda_envs/pepita/lib/python3.9/site-packages/torch/autograd/profiler.py:441\u001b[0m, in \u001b[0;36mrecord_function.__exit__\u001b[0;34m(self, exc_type, exc_value, traceback)\u001b[0m\n\u001b[1;32m    439\u001b[0m \u001b[38;5;28;01mdef\u001b[39;00m \u001b[38;5;21m__exit__\u001b[39m(\u001b[38;5;28mself\u001b[39m, exc_type: Any, exc_value: Any, traceback: Any):\n\u001b[1;32m    440\u001b[0m     \u001b[38;5;28;01mif\u001b[39;00m \u001b[38;5;28mself\u001b[39m\u001b[38;5;241m.\u001b[39mrun_callbacks_on_exit:\n\u001b[0;32m--> 441\u001b[0m         \u001b[43mtorch\u001b[49m\u001b[38;5;241;43m.\u001b[39;49m\u001b[43mops\u001b[49m\u001b[38;5;241;43m.\u001b[39;49m\u001b[43mprofiler\u001b[49m\u001b[38;5;241;43m.\u001b[39;49m\u001b[43m_record_function_exit\u001b[49m\u001b[43m(\u001b[49m\u001b[38;5;28;43mself\u001b[39;49m\u001b[38;5;241;43m.\u001b[39;49m\u001b[43mhandle\u001b[49m\u001b[43m)\u001b[49m\n",
      "\u001b[0;31mKeyboardInterrupt\u001b[0m: "
     ]
    },
    {
     "name": "stdout",
     "output_type": "stream",
     "text": [
      "Error in callback <function flush_figures at 0x2ae4fe774a60> (for post_execute):\n"
     ]
    },
    {
     "name": "stderr",
     "output_type": "stream",
     "text": [
      "\n",
      "KeyboardInterrupt\n",
      "\n"
     ]
    }
   ],
   "source": [
    "# net = FCNet([32 * 32 * 3, 1024, 1024, 512, 512, 256, 256, 10], Bstd=0.05)\n",
    "net = FCNet([32 * 32 * 3, 1024, 10], mirroring=True, update_algo='sgd')\n",
    "d = train(net, train_loader, 100, test_loader, 2)"
   ]
  },
  {
   "cell_type": "code",
   "execution_count": null,
   "id": "918bc2ac-ae92-4c42-834d-7fa449df9f38",
   "metadata": {},
   "outputs": [],
   "source": [
    "save_dir = '/home/cpsc490_ac2788/CPSC490/figures/report4/fig3/'\n",
    "os.makedirs(save_dir, exist_ok=True)\n",
    "plt.savefig(save_dir + \"fig.png\")"
   ]
  },
  {
   "cell_type": "code",
   "execution_count": null,
   "id": "51733ddf-be1d-4b82-a648-9244bea2b599",
   "metadata": {},
   "outputs": [],
   "source": []
  }
 ],
 "metadata": {
  "kernelspec": {
   "display_name": "Python 3 (ipykernel)",
   "language": "python",
   "name": "python3"
  },
  "language_info": {
   "codemirror_mode": {
    "name": "ipython",
    "version": 3
   },
   "file_extension": ".py",
   "mimetype": "text/x-python",
   "name": "python",
   "nbconvert_exporter": "python",
   "pygments_lexer": "ipython3",
   "version": "3.9.10"
  }
 },
 "nbformat": 4,
 "nbformat_minor": 5
}
