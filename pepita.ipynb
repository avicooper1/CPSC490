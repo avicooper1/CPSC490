{
 "cells": [
  {
   "cell_type": "code",
   "execution_count": 1,
   "id": "e9a2bd6b",
   "metadata": {},
   "outputs": [],
   "source": [
    "import numpy as np\n",
    "import torch\n",
    "import torch.nn as nn\n",
    "import torchvision\n",
    "%matplotlib widget\n",
    "import matplotlib.pyplot as plt\n",
    "import seaborn as sns\n",
    "from tqdm.notebook import tqdm\n",
    "from dataclasses import dataclass\n",
    "import os\n",
    "sns.set()"
   ]
  },
  {
   "cell_type": "code",
   "execution_count": 2,
   "id": "97d4b925-9eb6-4d60-93ec-0d564d38daad",
   "metadata": {},
   "outputs": [
    {
     "data": {
      "text/plain": [
       "<torch._C.Generator at 0x7f9aa16114d0>"
      ]
     },
     "execution_count": 2,
     "metadata": {},
     "output_type": "execute_result"
    }
   ],
   "source": [
    "n_epochs = 3\n",
    "batch_size = 120\n",
    "learning_rate = 0.001\n",
    "momentum = 0.5\n",
    "log_interval = 10\n",
    "\n",
    "torch.manual_seed(0)"
   ]
  },
  {
   "cell_type": "code",
   "execution_count": 3,
   "id": "52804abe-5649-4a60-b699-e6a6897634a1",
   "metadata": {},
   "outputs": [
    {
     "name": "stdout",
     "output_type": "stream",
     "text": [
      "Files already downloaded and verified\n",
      "Files already downloaded and verified\n"
     ]
    }
   ],
   "source": [
    "transforms = torchvision.transforms.Compose([\n",
    "                torchvision.transforms.ToTensor(),\n",
    "                torchvision.transforms.Normalize((0.1307,), (0.3081,)),\n",
    "                torchvision.transforms.Lambda(lambda x: x.flatten())])\n",
    "\n",
    "train_loader = torch.utils.data.DataLoader(\n",
    "    torchvision.datasets.CIFAR10('./cifar10/', train=True, download=True, transform=transforms), \n",
    "        batch_size=batch_size, shuffle=True)\n",
    "\n",
    "test_loader = torch.utils.data.DataLoader(\n",
    "    torchvision.datasets.CIFAR10('./cifar10/', train=False, download=True, transform=transforms), \n",
    "        batch_size=batch_size, shuffle=True)"
   ]
  },
  {
   "cell_type": "code",
   "execution_count": 49,
   "id": "11a5da1c-1d16-4149-8a53-28d1a4f510e2",
   "metadata": {},
   "outputs": [],
   "source": [
    "def setup_axis(ax, num_epochs, r, title, data_shape, weights=False):\n",
    "    ax.set_xlim(0, num_epochs - 1)\n",
    "    ax.set_ylim(r[0], r[1])\n",
    "    ax.set_title(title)\n",
    "    \n",
    "    data = np.empty(data_shape)\n",
    "    data[:] = np.nan\n",
    "    \n",
    "    return data, ax.plot(data, label=(None if not weights else [f'Layer {x}' for x in range(data.shape[1])]))\n",
    "\n",
    "# def set_data(plot, means, stds):\n",
    "#     for i, line in enumerate(plot):\n",
    "#         print(\"jere\")\n",
    "#         line.set_ydata = means[,i]"
   ]
  },
  {
   "cell_type": "code",
   "execution_count": 60,
   "id": "8f70e047-24c9-4324-b791-34788deb5d3f",
   "metadata": {},
   "outputs": [],
   "source": [
    "def train(net, train_loader, num_epochs, test_loader=None):\n",
    "    \n",
    "    criterion = nn.CrossEntropyLoss()\n",
    "    \n",
    "    plt.close('all')\n",
    "    fig, axes = plt.subplots(1, 2, figsize=(10, 3))\n",
    "    hfig = display(fig, display_id=True)\n",
    "    \n",
    "    weights, weights_plot = setup_axis(axes[0], num_epochs, (-0.1, 0.1), \"Weights\", (num_epochs, len(net.weights)))\n",
    "    weight_stds = weights.copy()\n",
    "    accuracies, accuracies_plot = setup_axis(axes[1], num_epochs, (0, 1.1), \"Accuracy\", (num_epochs))\n",
    "    accuracies_stds = accuracies.copy()\n",
    "    \n",
    "    test_means = np.zeros(len(test_loader))\n",
    "    \n",
    "    with torch.no_grad():\n",
    "    \n",
    "        for epoch in tqdm(range(num_epochs), desc=\"Epoch\"):\n",
    "            with tqdm(total=len(train_loader) + len(test_loader), leave=False, desc=\"Batch\") as pbar:\n",
    "                running_loss = 0\n",
    "                for batch_idx, (data, targets) in enumerate(train_loader):\n",
    "\n",
    "                    y = net(data)\n",
    "\n",
    "                    one_hot = nn.functional.one_hot(targets, num_classes=10)\n",
    "                    \n",
    "                    net.update(data, y - one_hot)\n",
    "\n",
    "                    if torch.isnan(criterion(y, targets)):\n",
    "                        print(\"Error: weights diverged\")\n",
    "                        return\n",
    "\n",
    "                    running_loss += criterion(y, targets) / data.shape[0]\n",
    "                    pbar.update(1)\n",
    "\n",
    "                weights[epoch] = [torch.mean(w) for w in net.weights]\n",
    "                weight_stds[epoch] = [torch.std(w) for w in net.weights]\n",
    "\n",
    "                for batch_idx, (data, targets) in enumerate(test_loader):\n",
    "                    test_means[batch_idx] = torch.mean((targets == np.argmax(net(data), axis=1)).float())\n",
    "                    pbar.update(1)\n",
    "\n",
    "                accuracies[epoch] = np.mean(test_means)\n",
    "                \n",
    "                for i, line in enumerate(weights_plot):\n",
    "                    line.set_ydata(weights[:,i])\n",
    "                accuracies_plot[0].set_ydata(accuracies)\n",
    "                \n",
    "                # set_data(weights_plot, weights, weight_stds)\n",
    "                # set_data(accuracies_plot, accuracies, accuracies_stds)\n",
    "                fig.canvas.draw()\n",
    "                hfig.update(fig)"
   ]
  },
  {
   "cell_type": "code",
   "execution_count": 61,
   "id": "e0e8c252-9823-44f2-ae19-61ac1e5c4f85",
   "metadata": {},
   "outputs": [],
   "source": [
    "def generate_layer(in_size, out_size):\n",
    "    w = nn.Linear(in_size, out_size, bias=False)\n",
    "    a = nn.ReLU()\n",
    "    \n",
    "    return nn.Sequential(w, a)\n",
    "\n",
    "def collect_activations(model, l):\n",
    "    def hook(self, input, output):\n",
    "        model.activations[l] = output.detach()\n",
    "    return hook\n",
    "\n",
    "def generate_B(n_in, B_mean_zero=True, Bstd=0.05):\n",
    "    \n",
    "    n_out = 10\n",
    "    sd = np.sqrt(6 / n_in)\n",
    "    if B_mean_zero:\n",
    "        B = (torch.rand(n_in, n_out) * 2 * sd - sd) * Bstd  # mean zero\n",
    "    else:\n",
    "        B = (torch.rand(n_in, n_out) * sd) * Bstd\n",
    "        \n",
    "    return B\n",
    "\n",
    "class FCNet(nn.Module):\n",
    "    def __init__(self, layer_sizes, B_mean_zero=True, Bstd=0.05, output_dim=None):\n",
    "        super(FCNet, self).__init__()\n",
    "        self.layers_list = [nn.Sequential(nn.Linear(in_size, out_size, bias=False), nn.ReLU()) for in_size, out_size in zip(layer_sizes, layer_sizes[1:])]\n",
    "\n",
    "        self.layers = nn.Sequential(*self.layers_list)\n",
    "        \n",
    "        self.weights = [layer[0].weight for layer in self.layers]\n",
    "        \n",
    "        self.activations = [None] * len(self.layers)\n",
    "        \n",
    "        for l, layer in enumerate(self.layers):\n",
    "            layer.register_forward_hook(collect_activations(self, l))\n",
    "            \n",
    "        self.B = generate_B(layer_sizes[0], B_mean_zero=True, Bstd=0.05)\n",
    "        \n",
    "            \n",
    "    def forward(self, x):\n",
    "        return self.layers(x)\n",
    "    \n",
    "    def update(self, x, e, first_block=True, last_block=True):\n",
    "        \n",
    "        if first_block:\n",
    "            hl_err = x + (e @ self.B.T)\n",
    "        else:\n",
    "            hl_err = x\n",
    "        \n",
    "        forward_activations = self.activations\n",
    "        modulated_forward = self.forward(hl_err)\n",
    "        modulated_activations = self.activations\n",
    "        \n",
    "        for l, layer in enumerate(self.layers):\n",
    "            if (l == len(self.layers) - 1) and last_block:\n",
    "                dwl = e.T @ (modulated_activations[l - 1] if l != 0 else x)\n",
    "            else:\n",
    "                dwl = (forward_activations[l] - modulated_activations[l]).T @ (modulated_activations[l - 1] if l != 0 else x)\n",
    "            layer[0].weight -= learning_rate * dwl / batch_size\n",
    "            \n",
    "        return modulated_forward\n",
    "            \n",
    "                   \n",
    "class FCRes_Net(nn.Module):\n",
    "    def __init__(self, input_size, output_size, block_sizes, block_depth=3, B_mean_zero=True, Bstd=0.05):\n",
    "        super(FCRes_Net, self).__init__()\n",
    "        \n",
    "        self.blocks = [FCNet([block] * (block_depth + 1), output_dim=10) for block in block_sizes]\n",
    "        self.dim_maps = [FCNet([input_size, block_sizes[0]])]\n",
    "        self.dim_maps += ([FCNet([in_size, out_size]) for in_size, out_size in zip(block_sizes, block_sizes[1:])])\n",
    "        self.dim_maps.append(FCNet([block_sizes[-1], output_size]))\n",
    "        self.weights = []\n",
    "        for block in self.blocks: #TODO does not account for dim map weights\n",
    "            self.weights += block.weights\n",
    "        \n",
    "    def __repr__(self):\n",
    "        res = ''\n",
    "        for b, (dim_map, block) in enumerate(zip(self.dim_maps, self.blocks)):\n",
    "            res += f'Dim Map {b}\\n'\n",
    "            res += dim_map.__repr__()\n",
    "            res += '\\n'\n",
    "            res += f'Block {b}\\n'\n",
    "            res += block.__repr__() + '\\n'\n",
    "        res += self.dim_maps[-1].__repr__()\n",
    "        return res\n",
    "    \n",
    "    def forward(self, x, last_block=False):\n",
    "        \n",
    "        in_x = x\n",
    "        x = 0\n",
    "        \n",
    "        for b, (dim_map, block) in enumerate(zip(self.dim_maps, self.blocks)):\n",
    "            in_x = dim_map(in_x + x)\n",
    "            x = block(in_x)\n",
    "            \n",
    "        return self.dim_maps[-1](x)\n",
    "    \n",
    "    def update(self, x, e):\n",
    "        \n",
    "        in_hl_err = x + (e @ self.dim_maps[0].B.T)\n",
    "        hl_err = 0\n",
    "        \n",
    "        for b, (dim_map, block) in enumerate(zip(self.dim_maps, self.blocks)):\n",
    "            in_hl_err = dim_map.update(in_hl_err + hl_err, e, True, False)\n",
    "            hl_err = block.update(in_hl_err, e, False, False)\n",
    "            \n",
    "        self.dim_maps[-1].update(hl_err, e, False, True)"
   ]
  },
  {
   "cell_type": "code",
   "execution_count": null,
   "id": "17cc0370-73b0-4333-86bb-a55ae0c21656",
   "metadata": {},
   "outputs": [
    {
     "data": {
      "image/png": "[encoded data removed]",
      "text/plain": [
       "<Figure size 1000x300 with 2 Axes>"
      ]
     },
     "metadata": {},
     "output_type": "display_data"
    },
    {
     "data": {
      "application/vnd.jupyter.widget-view+json": {
       "model_id": "5879d254418b4ba1ad2fb17ad9cc0b0b",
       "version_major": 2,
       "version_minor": 0
      },
      "text/plain": [
       "Epoch:   0%|          | 0/100 [00:00<?, ?it/s]"
      ]
     },
     "metadata": {},
     "output_type": "display_data"
    },
    {
     "data": {
      "application/vnd.jupyter.widget-view+json": {
       "model_id": "",
       "version_major": 2,
       "version_minor": 0
      },
      "text/plain": [
       "Batch:   0%|          | 0/501 [00:00<?, ?it/s]"
      ]
     },
     "metadata": {},
     "output_type": "display_data"
    },
    {
     "data": {
      "application/vnd.jupyter.widget-view+json": {
       "model_id": "",
       "version_major": 2,
       "version_minor": 0
      },
      "text/plain": [
       "Batch:   0%|          | 0/501 [00:00<?, ?it/s]"
      ]
     },
     "metadata": {},
     "output_type": "display_data"
    },
    {
     "data": {
      "application/vnd.jupyter.widget-view+json": {
       "model_id": "",
       "version_major": 2,
       "version_minor": 0
      },
      "text/plain": [
       "Batch:   0%|          | 0/501 [00:00<?, ?it/s]"
      ]
     },
     "metadata": {},
     "output_type": "display_data"
    },
    {
     "data": {
      "application/vnd.jupyter.widget-view+json": {
       "model_id": "",
       "version_major": 2,
       "version_minor": 0
      },
      "text/plain": [
       "Batch:   0%|          | 0/501 [00:00<?, ?it/s]"
      ]
     },
     "metadata": {},
     "output_type": "display_data"
    },
    {
     "data": {
      "application/vnd.jupyter.widget-view+json": {
       "model_id": "",
       "version_major": 2,
       "version_minor": 0
      },
      "text/plain": [
       "Batch:   0%|          | 0/501 [00:00<?, ?it/s]"
      ]
     },
     "metadata": {},
     "output_type": "display_data"
    },
    {
     "data": {
      "application/vnd.jupyter.widget-view+json": {
       "model_id": "",
       "version_major": 2,
       "version_minor": 0
      },
      "text/plain": [
       "Batch:   0%|          | 0/501 [00:00<?, ?it/s]"
      ]
     },
     "metadata": {},
     "output_type": "display_data"
    },
    {
     "data": {
      "application/vnd.jupyter.widget-view+json": {
       "model_id": "",
       "version_major": 2,
       "version_minor": 0
      },
      "text/plain": [
       "Batch:   0%|          | 0/501 [00:00<?, ?it/s]"
      ]
     },
     "metadata": {},
     "output_type": "display_data"
    },
    {
     "data": {
      "application/vnd.jupyter.widget-view+json": {
       "model_id": "",
       "version_major": 2,
       "version_minor": 0
      },
      "text/plain": [
       "Batch:   0%|          | 0/501 [00:00<?, ?it/s]"
      ]
     },
     "metadata": {},
     "output_type": "display_data"
    },
    {
     "data": {
      "application/vnd.jupyter.widget-view+json": {
       "model_id": "",
       "version_major": 2,
       "version_minor": 0
      },
      "text/plain": [
       "Batch:   0%|          | 0/501 [00:00<?, ?it/s]"
      ]
     },
     "metadata": {},
     "output_type": "display_data"
    },
    {
     "data": {
      "application/vnd.jupyter.widget-view+json": {
       "model_id": "",
       "version_major": 2,
       "version_minor": 0
      },
      "text/plain": [
       "Batch:   0%|          | 0/501 [00:00<?, ?it/s]"
      ]
     },
     "metadata": {},
     "output_type": "display_data"
    },
    {
     "data": {
      "application/vnd.jupyter.widget-view+json": {
       "model_id": "",
       "version_major": 2,
       "version_minor": 0
      },
      "text/plain": [
       "Batch:   0%|          | 0/501 [00:00<?, ?it/s]"
      ]
     },
     "metadata": {},
     "output_type": "display_data"
    },
    {
     "data": {
      "application/vnd.jupyter.widget-view+json": {
       "model_id": "",
       "version_major": 2,
       "version_minor": 0
      },
      "text/plain": [
       "Batch:   0%|          | 0/501 [00:00<?, ?it/s]"
      ]
     },
     "metadata": {},
     "output_type": "display_data"
    },
    {
     "data": {
      "application/vnd.jupyter.widget-view+json": {
       "model_id": "",
       "version_major": 2,
       "version_minor": 0
      },
      "text/plain": [
       "Batch:   0%|          | 0/501 [00:00<?, ?it/s]"
      ]
     },
     "metadata": {},
     "output_type": "display_data"
    },
    {
     "data": {
      "application/vnd.jupyter.widget-view+json": {
       "model_id": "",
       "version_major": 2,
       "version_minor": 0
      },
      "text/plain": [
       "Batch:   0%|          | 0/501 [00:00<?, ?it/s]"
      ]
     },
     "metadata": {},
     "output_type": "display_data"
    },
    {
     "data": {
      "application/vnd.jupyter.widget-view+json": {
       "model_id": "",
       "version_major": 2,
       "version_minor": 0
      },
      "text/plain": [
       "Batch:   0%|          | 0/501 [00:00<?, ?it/s]"
      ]
     },
     "metadata": {},
     "output_type": "display_data"
    },
    {
     "data": {
      "application/vnd.jupyter.widget-view+json": {
       "model_id": "",
       "version_major": 2,
       "version_minor": 0
      },
      "text/plain": [
       "Batch:   0%|          | 0/501 [00:00<?, ?it/s]"
      ]
     },
     "metadata": {},
     "output_type": "display_data"
    },
    {
     "data": {
      "application/vnd.jupyter.widget-view+json": {
       "model_id": "",
       "version_major": 2,
       "version_minor": 0
      },
      "text/plain": [
       "Batch:   0%|          | 0/501 [00:00<?, ?it/s]"
      ]
     },
     "metadata": {},
     "output_type": "display_data"
    },
    {
     "data": {
      "application/vnd.jupyter.widget-view+json": {
       "model_id": "",
       "version_major": 2,
       "version_minor": 0
      },
      "text/plain": [
       "Batch:   0%|          | 0/501 [00:00<?, ?it/s]"
      ]
     },
     "metadata": {},
     "output_type": "display_data"
    },
    {
     "data": {
      "application/vnd.jupyter.widget-view+json": {
       "model_id": "a5ac62d8b70f4af8821095bfd501f932",
       "version_major": 2,
       "version_minor": 0
      },
      "text/plain": [
       "Batch:   0%|          | 0/501 [00:00<?, ?it/s]"
      ]
     },
     "metadata": {},
     "output_type": "display_data"
    }
   ],
   "source": [
    "# net = FCRes_Net(32 * 32 * 3, 10, [1024])\n",
    "net = FCNet([32 * 32 * 3, 1024, 512, 256, 128, 10])\n",
    "train(net, train_loader, 100, test_loader)"
   ]
  },
  {
   "cell_type": "code",
   "execution_count": null,
   "id": "6f15e923-163a-4639-aae1-db89bb017b23",
   "metadata": {},
   "outputs": [],
   "source": [
    "train(net, train_loader, 100, test_loader)"
   ]
  },
  {
   "cell_type": "code",
   "execution_count": null,
   "id": "07a69eff-7507-4ff7-ad1b-5d5dfb5a646e",
   "metadata": {},
   "outputs": [],
   "source": []
  },
  {
   "cell_type": "code",
   "execution_count": null,
   "id": "722b392a-4bb7-405d-93fd-3ef649bb8e20",
   "metadata": {},
   "outputs": [],
   "source": [
    "net.layers"
   ]
  },
  {
   "cell_type": "code",
   "execution_count": null,
   "id": "82aed44e-0e52-406b-b6a1-d4a8cfbb2295",
   "metadata": {},
   "outputs": [],
   "source": [
    "save_dir = '/Users/avicooper/Documents/Yale/S2022/CPSC 490/FA and DFA/figures/fig6/'\n",
    "os.makedirs(save_dir, exist_ok=True)\n",
    "net = FCRes_Net(32 * 32 * 3, 10, [1024, 500, 300, 100])\n",
    "train(net, train_loader, 10, test_loader)\n",
    "plt.savefig(save_dir + \"fig2.png\")"
   ]
  },
  {
   "cell_type": "code",
   "execution_count": null,
   "id": "c97b8aa3-198f-4d17-9aad-764fa1524f66",
   "metadata": {},
   "outputs": [],
   "source": [
    "print(net)"
   ]
  },
  {
   "cell_type": "code",
   "execution_count": null,
   "id": "e0af634e-0272-41c7-9e10-7e1d9d052749",
   "metadata": {},
   "outputs": [],
   "source": [
    "print(net)"
   ]
  },
  {
   "cell_type": "code",
   "execution_count": null,
   "id": "a6cba1af-df06-476a-90c1-dfed5ee70b04",
   "metadata": {},
   "outputs": [],
   "source": [
    "net = FCRes_Net(32 * 32 * 3, 10, [1000, 700, 500, 300])\n",
    "train(net, train_loader, 10, test_loader)"
   ]
  },
  {
   "cell_type": "code",
   "execution_count": null,
   "id": "a153f0ae-a111-4318-80dc-8211e720fdcb",
   "metadata": {},
   "outputs": [],
   "source": [
    "@dataclass\n",
    "class ConvData:\n",
    "    in_c: int\n",
    "    out_c: int\n",
    "    k_sz: int\n",
    "    stride: int\n",
    "\n",
    "class CNNNet(nn.Module):\n",
    "    def __init__(self, conv_data, fc_layer_sizes, B_mean_zero=True, Bstd=0.05, output_dim=None):\n",
    "        super(CNNNet, self).__init__()\n",
    "        \n",
    "        self.layers_list = [nn.Sequential(nn.Conv2d(cd.in_c, cd.out_c, cd.k_sz, stride=cd.stride, bias=False), nn.Tanh()) for cd in conv_data]\n",
    "        self.unfolds = [nn.Unfold(cd.k_sz, stride=cd.stride) for cd in conv_data]\n",
    "        self.layers_list.append(nn.Flatten())\n",
    "        self.layers_list += [nn.Sequential(nn.Linear(in_size, out_size, bias=False), nn.Tanh()) for in_size, out_size in zip(fc_layer_sizes, fc_layer_sizes[1:])]\n",
    "        \n",
    "        self.layers = nn.Sequential(*self.layers_list)\n",
    "        \n",
    "        self.activations = [None] * len(self.layers)\n",
    "        \n",
    "        for l, layer in enumerate(self.layers):\n",
    "            layer.register_forward_hook(collect_activations(self, l))\n",
    "            \n",
    "        self.B = generate_B(784, B_mean_zero=True, Bstd=0.05)\n",
    "        \n",
    "            \n",
    "    def forward(self, x):\n",
    "        return self.layers(x)\n",
    "    \n",
    "    def update(self, x, e, first_block=True, last_block=True):\n",
    "        \n",
    "        if first_block:\n",
    "            print(x.shape, e.shape, self.B.T.shape, (e @ self.B.T).shape)\n",
    "            hl_err = x + (e @ self.B.T)\n",
    "        else:\n",
    "            hl_err = x\n",
    "        \n",
    "        forward_activations = self.activations\n",
    "        modulated_forward = self.forward(hl_err)\n",
    "        modulated_activations = self.activations\n",
    "        \n",
    "        for l, layer in enumerate(self.layers):\n",
    "            if (l == len(self.layers) - 1) and last_block:\n",
    "                dwl = e.T @ (modulated_activations[l - 1] if l != 0 else x)\n",
    "            else:\n",
    "                dwl = (forward_activations[l] - modulated_activations[l]).T @ (modulated_activations[l - 1] if l != 0 else x)\n",
    "            layer[0].weight -= learning_rate * dwl / batch_size\n",
    "            \n",
    "        return modulated_forward"
   ]
  },
  {
   "cell_type": "code",
   "execution_count": null,
   "id": "e3dce222-74d8-4123-99bf-0b347f958c39",
   "metadata": {},
   "outputs": [],
   "source": [
    "net = CNNNet([ConvData(1, 16, 7, 4), ConvData(16, 4, 2, 1)], [100, 10])\n",
    "x = torch.rand(120, 1, 28, 28)\n",
    "net(x)"
   ]
  },
  {
   "cell_type": "code",
   "execution_count": null,
   "id": "66e599dc-8ca1-4498-b75d-759bae8d2d86",
   "metadata": {},
   "outputs": [],
   "source": [
    "net.layers[0][0].weight += "
   ]
  },
  {
   "cell_type": "code",
   "execution_count": null,
   "id": "a30326de-7332-4a9b-85e2-5a32ff69ae1d",
   "metadata": {},
   "outputs": [],
   "source": [
    "net.activations[0].reshape(120, 1, 16, 36).shape"
   ]
  },
  {
   "cell_type": "code",
   "execution_count": null,
   "id": "ad540431-aafe-4f0c-9c97-42729941b935",
   "metadata": {},
   "outputs": [],
   "source": [
    "torch.mean(net.activations[0].reshape(120, 1, 16, 36) * net.unfolds[0](x).reshape(120, 49, 1, 36), axis=(0, 1, 3))"
   ]
  },
  {
   "cell_type": "code",
   "execution_count": null,
   "id": "755c1139-c6a9-4c8f-b315-bf0cad3bd0d3",
   "metadata": {},
   "outputs": [],
   "source": [
    "net.unfolds[0](x).reshape(120, 49, 1, 36).shape"
   ]
  },
  {
   "cell_type": "code",
   "execution_count": null,
   "id": "943731d9-8aff-4513-b078-fffed17c2e71",
   "metadata": {},
   "outputs": [],
   "source": [
    "torch.mean(net.activations[0].reshape(120, 16, 36)[:,:1,:] * net.unfolds[0](x))"
   ]
  },
  {
   "cell_type": "code",
   "execution_count": null,
   "id": "b9391a36-539c-416c-988a-e8020d83f90b",
   "metadata": {},
   "outputs": [],
   "source": [
    "net = FCRes_Net(784, 10, [1000, 700, 500, 300])\n",
    "net"
   ]
  },
  {
   "cell_type": "code",
   "execution_count": null,
   "id": "9a55a8a1-3733-4726-bfc1-6c93cb8d5456",
   "metadata": {},
   "outputs": [],
   "source": []
  }
 ],
 "metadata": {
  "kernelspec": {
   "display_name": "Python 3 (ipykernel)",
   "language": "python",
   "name": "python3"
  },
  "language_info": {
   "codemirror_mode": {
    "name": "ipython",
    "version": 3
   },
   "file_extension": ".py",
   "mimetype": "text/x-python",
   "name": "python",
   "nbconvert_exporter": "python",
   "pygments_lexer": "ipython3",
   "version": "3.8.8"
  }
 },
 "nbformat": 4,
 "nbformat_minor": 5
}
