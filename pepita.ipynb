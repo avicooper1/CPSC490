{
 "cells": [
  {
   "cell_type": "code",
   "execution_count": 1,
   "id": "e9a2bd6b",
   "metadata": {},
   "outputs": [],
   "source": [
    "import numpy as np\n",
    "# import pandas as pd\n",
    "import torch\n",
    "import torch.nn as nn\n",
    "import torchvision\n",
    "%matplotlib widget\n",
    "import matplotlib.pyplot as plt\n",
    "from matplotlib.patches import Patch\n",
    "import matplotlib.colors as mcolors\n",
    "import seaborn as sns\n",
    "from tqdm.notebook import tqdm\n",
    "# from dataclasses import dataclass\n",
    "import os\n",
    "sns.set()"
   ]
  },
  {
   "cell_type": "code",
   "execution_count": 2,
   "id": "97d4b925-9eb6-4d60-93ec-0d564d38daad",
   "metadata": {},
   "outputs": [
    {
     "data": {
      "text/plain": [
       "<torch._C.Generator at 0x2aac577cd750>"
      ]
     },
     "execution_count": 2,
     "metadata": {},
     "output_type": "execute_result"
    }
   ],
   "source": [
    "batch_size = 120\n",
    "learning_rate = 0.01\n",
    "\n",
    "torch.manual_seed(0)"
   ]
  },
  {
   "cell_type": "code",
   "execution_count": 61,
   "id": "52804abe-5649-4a60-b699-e6a6897634a1",
   "metadata": {},
   "outputs": [
    {
     "name": "stdout",
     "output_type": "stream",
     "text": [
      "Files already downloaded and verified\n",
      "Files already downloaded and verified\n"
     ]
    }
   ],
   "source": [
    "transforms = torchvision.transforms.Compose([\n",
    "                torchvision.transforms.ToTensor(),\n",
    "                torchvision.transforms.Normalize((0.1307,), (0.3081,)),\n",
    "                    # torchvision.transforms.Normalize((0.4914, 0.4822, 0.4465), (0.247, 0.243, 0.261)),\n",
    "                torchvision.transforms.Lambda(lambda x: x.flatten())])\n",
    "\n",
    "train_loader = torch.utils.data.DataLoader(\n",
    "    torchvision.datasets.CIFAR10('./cifar10/', train=True, download=True, transform=transforms), \n",
    "        batch_size=batch_size, shuffle=True, pin_memory=True)\n",
    "\n",
    "test_loader = torch.utils.data.DataLoader(\n",
    "    torchvision.datasets.CIFAR10('./cifar10/', train=False, download=True, transform=transforms), \n",
    "        batch_size=batch_size, shuffle=True, pin_memory=True)"
   ]
  },
  {
   "cell_type": "code",
   "execution_count": 4,
   "id": "11a5da1c-1d16-4149-8a53-28d1a4f510e2",
   "metadata": {},
   "outputs": [],
   "source": [
    "colors = list(mcolors.TABLEAU_COLORS)\n",
    "\n",
    "def setup_axis(ax, num_epochs, r, title, data_shape, weights=False):\n",
    "    ax.set_xlim(0, num_epochs - 1)\n",
    "    # ax.set_ylim(r[0], r[1])\n",
    "    ax.set_title(title)\n",
    "    \n",
    "    if weights:\n",
    "        d = np.empty(data_shape)\n",
    "        d[:] = np.nan\n",
    "        data = {}\n",
    "        for s in ['mean', 'std', 'max', 'min']:\n",
    "            data[s] = d.copy()\n",
    "        plot = []\n",
    "        legend_elements = []\n",
    "        for i in range(data_shape[1]):\n",
    "            label = f'Layer {i}'\n",
    "            mean_line = ax.plot(data['mean'][:,i], label=label, c=colors[i])[0]\n",
    "            max_line = ax.plot(data['max'][:,i], c=colors[i], dashes=[6,2])[0]\n",
    "            min_line = ax.plot(data['min'][:,i], c=colors[i], dashes=[6,2])[0]\n",
    "            plot.append((mean_line, max_line, min_line))\n",
    "            legend_elements.append(Patch(facecolor=colors[i], label=label))\n",
    "\n",
    "        ax.legend(handles=legend_elements, loc='upper right')\n",
    "        \n",
    "    else:\n",
    "        data = np.empty(data_shape)\n",
    "        data[:] = np.nan\n",
    "        plot = ax.plot(data)\n",
    "    \n",
    "    return data, plot\n",
    "\n",
    "def log_data(data, new_data, epoch):\n",
    "    data['mean'][epoch] = [torch.mean(layer).cpu() for layer in new_data]\n",
    "    data['std'][epoch] = [torch.std(layer).cpu() for layer in new_data]\n",
    "    data['max'][epoch] = [torch.max(layer).cpu() for layer in new_data]\n",
    "    data['min'][epoch] = [torch.min(layer).cpu() for layer in new_data]\n",
    "\n",
    "def set_axis_data(ax, p, data, data_std, num_epochs):\n",
    "        ax.collections.clear()\n",
    "        \n",
    "        if type(data) == dict:\n",
    "            for i, line_set in enumerate(p):\n",
    "                for j, name in enumerate(['mean', 'max', 'min']):\n",
    "                    line_set[j].set_ydata(data[name][:,i])\n",
    "                ax.fill_between(range(num_epochs), data['mean'][:,i] - data['std'][:,i], data['mean'][:,i] + data['std'][:,i], color=colors[i], alpha=0.2)\n",
    "        else:\n",
    "            p[0].set_ydata(data)\n",
    "            ax.fill_between(range(num_epochs), data - (data_std * 3), data + (data_std * 3), alpha=0.2)\n",
    "            \n",
    "        ax.relim()\n",
    "        ax.autoscale()\n",
    "        ax.set_xlim(0, num_epochs - 1)"
   ]
  },
  {
   "cell_type": "code",
   "execution_count": 5,
   "id": "8f70e047-24c9-4324-b791-34788deb5d3f",
   "metadata": {},
   "outputs": [],
   "source": [
    "weights = None\n",
    "activations = None\n",
    "\n",
    "def train(net, train_loader, num_epochs, test_loader=None):\n",
    "    \n",
    "    global weights, activations\n",
    "    \n",
    "    criterion = nn.CrossEntropyLoss()\n",
    "    \n",
    "    plt.close('all')\n",
    "    fig, axes = plt.subplots(1, 3, figsize=(15, 3))\n",
    "    hfig = display(fig, display_id=True)\n",
    "    \n",
    "    weights, weights_plot = setup_axis(axes[0], num_epochs, (-0.2, 0.2), \"Weights\", (num_epochs, len(net.weights)), True)\n",
    "    accuracies, accuracies_plot = setup_axis(axes[2], num_epochs, (0, 1.1), \"Accuracy\", (num_epochs))\n",
    "    accuracies_stds = accuracies.copy()\n",
    "    activations, activations_plot = setup_axis(axes[1], num_epochs, (-1, 1), \"Activations\", (num_epochs, len(net.activations)), True)\n",
    "    \n",
    "    with torch.no_grad():\n",
    "        \n",
    "        weights_df = None\n",
    "        activations_df = None\n",
    "    \n",
    "        for epoch in tqdm(range(num_epochs), desc=\"Epoch\"):\n",
    "            with tqdm(total=len(train_loader) + len(test_loader), leave=False, desc=\"Batch\") as pbar:\n",
    "                running_loss = 0\n",
    "                \n",
    "                for batch_idx, (data, targets) in enumerate(train_loader):\n",
    "                    \n",
    "                    if torch.cuda.is_available():\n",
    "                        data = data.to('cuda')\n",
    "                        targets = targets.to('cuda')\n",
    "\n",
    "                    y = net(data)\n",
    "\n",
    "                    one_hot = nn.functional.one_hot(targets, num_classes=10)\n",
    "                    \n",
    "                    net.update(data, y - one_hot)\n",
    "\n",
    "                    running_loss += criterion(y, targets) / data.shape[0]\n",
    "                    pbar.update(1)\n",
    "                        \n",
    "                log_data(weights, net.weights, epoch)\n",
    "                log_data(activations, net.activations, epoch)\n",
    "                \n",
    "                test_means = np.zeros(len(test_loader))\n",
    "\n",
    "                for batch_idx, (data, targets) in enumerate(test_loader):\n",
    "                    \n",
    "                    if torch.cuda.is_available():\n",
    "                        data = data.to('cuda')\n",
    "                        targets = targets.to('cuda')\n",
    "                    \n",
    "                    test_means[batch_idx] = torch.mean((targets == torch.argmax(net(data), axis=1)).float()).cpu()\n",
    "                    pbar.update(1)\n",
    "\n",
    "                accuracies[epoch] = np.mean(test_means)\n",
    "                accuracies_stds[epoch] = np.std(test_means)\n",
    "                \n",
    "                set_axis_data(axes[0], weights_plot, weights, None, num_epochs)\n",
    "                set_axis_data(axes[2], accuracies_plot, accuracies, accuracies_stds, num_epochs)\n",
    "                set_axis_data(axes[1], activations_plot, activations, None, num_epochs)\n",
    "\n",
    "                fig.canvas.draw()\n",
    "                hfig.update(fig)"
   ]
  },
  {
   "cell_type": "code",
   "execution_count": 74,
   "id": "e0e8c252-9823-44f2-ae19-61ac1e5c4f85",
   "metadata": {},
   "outputs": [],
   "source": [
    "@torch.no_grad()\n",
    "def generate_layer(in_size, out_size):\n",
    "    w = nn.Linear(in_size, out_size, bias=False)\n",
    "    a = nn.ReLU()\n",
    "    \n",
    "    layer_limit = np.sqrt(6.0 / in_size)\n",
    "    torch.nn.init.kaiming_uniform_(w.weight, mode='fan_in', nonlinearity='relu')\n",
    "    \n",
    "    return nn.Sequential(w, a)\n",
    "\n",
    "@torch.no_grad()\n",
    "def collect_activations(model, l):\n",
    "    def hook(self, input, output):\n",
    "        model.activations[l] = output.detach()\n",
    "    return hook\n",
    "\n",
    "def generate_B(n_in, B_mean_zero=True, Bstd=0.05):\n",
    "    \n",
    "    n_out = 10\n",
    "    sd = np.sqrt(6 / n_in)\n",
    "    if B_mean_zero:\n",
    "        B = (torch.rand(n_in, n_out) * 2 * sd - sd) * Bstd  # mean zero\n",
    "    else:\n",
    "        B = (torch.rand(n_in, n_out) * sd) * Bstd\n",
    "        \n",
    "    return B if not torch.cuda.is_available() else B.to('cuda')\n",
    "\n",
    "class FCNet(nn.Module):\n",
    "\n",
    "    @torch.no_grad()\n",
    "    def __init__(self, layer_sizes, final_layer=True, B_mean_zero=True, Bstd=0.05):\n",
    "        super(FCNet, self).__init__()\n",
    "        self.layers_list = [generate_layer(in_size, out_size) for in_size, out_size in zip(layer_sizes, layer_sizes[1:-1])]\n",
    "        self.layers_list.append(nn.Sequential(nn.Linear(layer_sizes[-2], layer_sizes[-1], bias=False), nn.Softmax(dim=1) if final_layer else nn.ReLU()))\n",
    "        \n",
    "        self.layers = nn.Sequential(*self.layers_list)\n",
    "        \n",
    "        self.weights = [layer[0].weight for layer in self.layers]\n",
    "        \n",
    "        self.activations = [None] * len(self.layers)\n",
    "        \n",
    "        for l, layer in enumerate(self.layers):\n",
    "            layer.register_forward_hook(collect_activations(self, l))\n",
    "            \n",
    "        self.B = generate_B(layer_sizes[0], B_mean_zero=True, Bstd=Bstd)\n",
    "        \n",
    "        if torch.cuda.is_available():\n",
    "            self.to('cuda')\n",
    "        \n",
    "    @torch.no_grad()\n",
    "    def get_activations(self):\n",
    "        return [activations.clone() for activations in self.activations]\n",
    "        \n",
    "    @torch.no_grad()        \n",
    "    def forward(self, x):\n",
    "        return self.layers(x)\n",
    "\n",
    "    @torch.no_grad()\n",
    "    def update(self, x, e, first_block=True, last_block=True):\n",
    "        \n",
    "        if first_block:\n",
    "            hl_err = x + (e @ self.B.T)\n",
    "        else:\n",
    "            hl_err = x\n",
    "        \n",
    "        forward_activations = self.get_activations()\n",
    "        modulated_forward = self.forward(hl_err)\n",
    "        modulated_activations = self.get_activations()\n",
    "        \n",
    "        for l, layer in enumerate(self.layers):\n",
    "            if (l == len(self.layers) - 1) and last_block:\n",
    "                dwl = e.T @ (modulated_activations[l - 1] if l != 0 else x)\n",
    "                layer[0].weight -= learning_rate * dwl / batch_size\n",
    "            # else:\n",
    "            #     dwl = (forward_activations[l] - modulated_activations[l]).T @ (modulated_activations[l - 1] if l != 0 else hl_err)\n",
    "            # layer[0].weight -= learning_rate * dwl / batch_size\n",
    "            \n",
    "        return modulated_forward\n",
    "            \n",
    "                   \n",
    "class FCRes_Net(nn.Module):\n",
    "\n",
    "    @torch.no_grad()\n",
    "    def __init__(self, input_size, output_size, block_sizes, block_depth=3, B_mean_zero=True, Bstd=0.05):\n",
    "        super(FCRes_Net, self).__init__()\n",
    "        \n",
    "        self.blocks = [FCNet([block] * (block_depth + 1), final_layer=False) for block in block_sizes]\n",
    "        self.dim_maps = [FCNet([input_size, block_sizes[0]], final_layer=False)]\n",
    "        self.dim_maps += ([FCNet([in_size, out_size], final_layer=False) for in_size, out_size in zip(block_sizes, block_sizes[1:])])\n",
    "        self.dim_maps.append(FCNet([block_sizes[-1], output_size]))\n",
    "        \n",
    "        self.layers = []\n",
    "        self._activations = []\n",
    "        \n",
    "        for dim_map, block in zip(self.dim_maps, self.blocks):\n",
    "            self.layers += dim_map.layers\n",
    "            self.layers += block.layers\n",
    "            \n",
    "            self._activations.append(dim_map.activations)\n",
    "            self._activations.append(block.activations)\n",
    "            \n",
    "        self.layers += self.dim_maps[-1].layers\n",
    "        self._activations.append(self.dim_maps[-1].activations)\n",
    "        \n",
    "        self.weights = [layer[0].weight for layer in self.layers]\n",
    "        \n",
    "    @property\n",
    "    def activations(self):\n",
    "        result = []\n",
    "        list(map(lambda acts: result.extend(acts), self._activations))\n",
    "        return result\n",
    "        \n",
    "    def __repr__(self):\n",
    "        res = ''\n",
    "        for b, (dim_map, block) in enumerate(zip(self.dim_maps, self.blocks)):\n",
    "            res += f'Dim Map {b}\\n'\n",
    "            res += dim_map.__repr__()\n",
    "            res += '\\n'\n",
    "            res += f'Block {b}\\n'\n",
    "            res += block.__repr__() + '\\n'\n",
    "        res += self.dim_maps[-1].__repr__()\n",
    "        return res\n",
    "    \n",
    "#     def forward(self, x, last_block=False):\n",
    "        \n",
    "#         in_x = x\n",
    "#         x = 0\n",
    "        \n",
    "#         for b, (dim_map, block) in enumerate(zip(self.dim_maps, self.blocks)):\n",
    "#             in_x = dim_map(in_x + x)\n",
    "#             x = block(in_x)\n",
    "            \n",
    "#         return self.dim_maps[-1](x)\n",
    "    \n",
    "#     def update(self, x, e):\n",
    "        \n",
    "#         in_hl_err = x + (e @ self.dim_maps[0].B.T)\n",
    "#         hl_err = 0\n",
    "        \n",
    "#         for b, (dim_map, block) in enumerate(zip(self.dim_maps, self.blocks)):\n",
    "#             in_hl_err = dim_map.update(in_hl_err + hl_err, e, True, False)\n",
    "#             hl_err = block.update(in_hl_err, e, False, False)\n",
    "            \n",
    "#         self.dim_maps[-1].update(hl_err, e, False, True)\n",
    "\n",
    "    def forward(self, x):\n",
    "        \n",
    "        for b, (dim_map, block) in enumerate(zip(self.dim_maps, self.blocks)):\n",
    "            x = dim_map(x)\n",
    "            x = block(x)\n",
    "            \n",
    "        return self.dim_maps[-1](x)\n",
    "    \n",
    "    def update(self, x, e):\n",
    "        \n",
    "        dim_map_in = x\n",
    "        \n",
    "        for b, (dim_map, block) in enumerate(zip(self.dim_maps, self.blocks)):\n",
    "            block_in = dim_map.forward(dim_map_in)#, e, True, False)\n",
    "            # dim_map_in = block.activations[-1]\n",
    "            hl_err = block.forward(block_in)#, e, False, False)\n",
    "            \n",
    "        self.dim_maps[-1].update(hl_err, e, True, True)"
   ]
  },
  {
   "cell_type": "code",
   "execution_count": 75,
   "id": "b4d203a6-e875-4259-9f46-881920f08a74",
   "metadata": {},
   "outputs": [
    {
     "data": {
      "text/plain": [
       "tensor([[0.1456, 0.2640, 0.0520,  ..., 0.0323, 0.1217, 0.2080],\n",
       "        [0.1056, 0.0430, 0.0982,  ..., 0.2232, 0.0687, 0.0962],\n",
       "        [0.3350, 0.1503, 0.0436,  ..., 0.0394, 0.0983, 0.1256],\n",
       "        ...,\n",
       "        [0.0483, 0.0333, 0.1621,  ..., 0.0846, 0.0483, 0.0221],\n",
       "        [0.0610, 0.2336, 0.0277,  ..., 0.0575, 0.0700, 0.4710],\n",
       "        [0.0266, 0.0397, 0.0779,  ..., 0.0265, 0.0240, 0.0193]],\n",
       "       device='cuda:0')"
      ]
     },
     "execution_count": 75,
     "metadata": {},
     "output_type": "execute_result"
    }
   ],
   "source": [
    "net.activations[-1]"
   ]
  },
  {
   "cell_type": "code",
   "execution_count": 62,
   "id": "13c5c93f-2b67-4a51-8217-0d3de294ba15",
   "metadata": {},
   "outputs": [
    {
     "data": {
      "text/plain": [
       "tensor(0.5149)"
      ]
     },
     "execution_count": 62,
     "metadata": {},
     "output_type": "execute_result"
    }
   ],
   "source": [
    "torch.mean(train_loader.dataset[10][0])"
   ]
  },
  {
   "cell_type": "code",
   "execution_count": 66,
   "id": "90da5245-1f4a-412a-a3fb-3ba7748526e1",
   "metadata": {},
   "outputs": [
    {
     "data": {
      "text/plain": [
       "tensor(0.9668, device='cuda:0')"
      ]
     },
     "execution_count": 66,
     "metadata": {},
     "output_type": "execute_result"
    }
   ],
   "source": [
    "torch.mean(net.activations[3])"
   ]
  },
  {
   "cell_type": "code",
   "execution_count": 40,
   "id": "80c6a31d-8066-415f-89f3-3eba59900066",
   "metadata": {},
   "outputs": [
    {
     "data": {
      "text/plain": [
       "tensor(0.0022, device='cuda:0')"
      ]
     },
     "execution_count": 40,
     "metadata": {},
     "output_type": "execute_result"
    }
   ],
   "source": [
    "torch.std(net.dim_maps[1].B)"
   ]
  },
  {
   "cell_type": "code",
   "execution_count": null,
   "id": "17cc0370-73b0-4333-86bb-a55ae0c21656",
   "metadata": {},
   "outputs": [
    {
     "data": {
      "image/png": "[encoded data removed]",
      "text/plain": [
       "<Figure size 1500x300 with 3 Axes>"
      ]
     },
     "metadata": {},
     "output_type": "display_data"
    },
    {
     "data": {
      "application/vnd.jupyter.widget-view+json": {
       "model_id": "9a42b6ba5c6c4321b0190a08f653c76e",
       "version_major": 2,
       "version_minor": 0
      },
      "text/plain": [
       "Epoch:   0%|          | 0/100 [00:00<?, ?it/s]"
      ]
     },
     "metadata": {},
     "output_type": "display_data"
    },
    {
     "data": {
      "application/vnd.jupyter.widget-view+json": {
       "model_id": "",
       "version_major": 2,
       "version_minor": 0
      },
      "text/plain": [
       "Batch:   0%|          | 0/501 [00:00<?, ?it/s]"
      ]
     },
     "metadata": {},
     "output_type": "display_data"
    },
    {
     "data": {
      "application/vnd.jupyter.widget-view+json": {
       "model_id": "",
       "version_major": 2,
       "version_minor": 0
      },
      "text/plain": [
       "Batch:   0%|          | 0/501 [00:00<?, ?it/s]"
      ]
     },
     "metadata": {},
     "output_type": "display_data"
    },
    {
     "data": {
      "application/vnd.jupyter.widget-view+json": {
       "model_id": "",
       "version_major": 2,
       "version_minor": 0
      },
      "text/plain": [
       "Batch:   0%|          | 0/501 [00:00<?, ?it/s]"
      ]
     },
     "metadata": {},
     "output_type": "display_data"
    },
    {
     "data": {
      "application/vnd.jupyter.widget-view+json": {
       "model_id": "",
       "version_major": 2,
       "version_minor": 0
      },
      "text/plain": [
       "Batch:   0%|          | 0/501 [00:00<?, ?it/s]"
      ]
     },
     "metadata": {},
     "output_type": "display_data"
    },
    {
     "data": {
      "application/vnd.jupyter.widget-view+json": {
       "model_id": "",
       "version_major": 2,
       "version_minor": 0
      },
      "text/plain": [
       "Batch:   0%|          | 0/501 [00:00<?, ?it/s]"
      ]
     },
     "metadata": {},
     "output_type": "display_data"
    },
    {
     "data": {
      "application/vnd.jupyter.widget-view+json": {
       "model_id": "",
       "version_major": 2,
       "version_minor": 0
      },
      "text/plain": [
       "Batch:   0%|          | 0/501 [00:00<?, ?it/s]"
      ]
     },
     "metadata": {},
     "output_type": "display_data"
    },
    {
     "data": {
      "application/vnd.jupyter.widget-view+json": {
       "model_id": "",
       "version_major": 2,
       "version_minor": 0
      },
      "text/plain": [
       "Batch:   0%|          | 0/501 [00:00<?, ?it/s]"
      ]
     },
     "metadata": {},
     "output_type": "display_data"
    },
    {
     "data": {
      "application/vnd.jupyter.widget-view+json": {
       "model_id": "",
       "version_major": 2,
       "version_minor": 0
      },
      "text/plain": [
       "Batch:   0%|          | 0/501 [00:00<?, ?it/s]"
      ]
     },
     "metadata": {},
     "output_type": "display_data"
    },
    {
     "data": {
      "application/vnd.jupyter.widget-view+json": {
       "model_id": "",
       "version_major": 2,
       "version_minor": 0
      },
      "text/plain": [
       "Batch:   0%|          | 0/501 [00:00<?, ?it/s]"
      ]
     },
     "metadata": {},
     "output_type": "display_data"
    },
    {
     "data": {
      "application/vnd.jupyter.widget-view+json": {
       "model_id": "",
       "version_major": 2,
       "version_minor": 0
      },
      "text/plain": [
       "Batch:   0%|          | 0/501 [00:00<?, ?it/s]"
      ]
     },
     "metadata": {},
     "output_type": "display_data"
    },
    {
     "data": {
      "application/vnd.jupyter.widget-view+json": {
       "model_id": "",
       "version_major": 2,
       "version_minor": 0
      },
      "text/plain": [
       "Batch:   0%|          | 0/501 [00:00<?, ?it/s]"
      ]
     },
     "metadata": {},
     "output_type": "display_data"
    },
    {
     "data": {
      "application/vnd.jupyter.widget-view+json": {
       "model_id": "",
       "version_major": 2,
       "version_minor": 0
      },
      "text/plain": [
       "Batch:   0%|          | 0/501 [00:00<?, ?it/s]"
      ]
     },
     "metadata": {},
     "output_type": "display_data"
    },
    {
     "data": {
      "application/vnd.jupyter.widget-view+json": {
       "model_id": "",
       "version_major": 2,
       "version_minor": 0
      },
      "text/plain": [
       "Batch:   0%|          | 0/501 [00:00<?, ?it/s]"
      ]
     },
     "metadata": {},
     "output_type": "display_data"
    },
    {
     "data": {
      "application/vnd.jupyter.widget-view+json": {
       "model_id": "",
       "version_major": 2,
       "version_minor": 0
      },
      "text/plain": [
       "Batch:   0%|          | 0/501 [00:00<?, ?it/s]"
      ]
     },
     "metadata": {},
     "output_type": "display_data"
    },
    {
     "data": {
      "application/vnd.jupyter.widget-view+json": {
       "model_id": "",
       "version_major": 2,
       "version_minor": 0
      },
      "text/plain": [
       "Batch:   0%|          | 0/501 [00:00<?, ?it/s]"
      ]
     },
     "metadata": {},
     "output_type": "display_data"
    },
    {
     "data": {
      "application/vnd.jupyter.widget-view+json": {
       "model_id": "",
       "version_major": 2,
       "version_minor": 0
      },
      "text/plain": [
       "Batch:   0%|          | 0/501 [00:00<?, ?it/s]"
      ]
     },
     "metadata": {},
     "output_type": "display_data"
    },
    {
     "data": {
      "application/vnd.jupyter.widget-view+json": {
       "model_id": "",
       "version_major": 2,
       "version_minor": 0
      },
      "text/plain": [
       "Batch:   0%|          | 0/501 [00:00<?, ?it/s]"
      ]
     },
     "metadata": {},
     "output_type": "display_data"
    },
    {
     "data": {
      "application/vnd.jupyter.widget-view+json": {
       "model_id": "",
       "version_major": 2,
       "version_minor": 0
      },
      "text/plain": [
       "Batch:   0%|          | 0/501 [00:00<?, ?it/s]"
      ]
     },
     "metadata": {},
     "output_type": "display_data"
    },
    {
     "data": {
      "application/vnd.jupyter.widget-view+json": {
       "model_id": "",
       "version_major": 2,
       "version_minor": 0
      },
      "text/plain": [
       "Batch:   0%|          | 0/501 [00:00<?, ?it/s]"
      ]
     },
     "metadata": {},
     "output_type": "display_data"
    },
    {
     "data": {
      "application/vnd.jupyter.widget-view+json": {
       "model_id": "",
       "version_major": 2,
       "version_minor": 0
      },
      "text/plain": [
       "Batch:   0%|          | 0/501 [00:00<?, ?it/s]"
      ]
     },
     "metadata": {},
     "output_type": "display_data"
    },
    {
     "data": {
      "application/vnd.jupyter.widget-view+json": {
       "model_id": "",
       "version_major": 2,
       "version_minor": 0
      },
      "text/plain": [
       "Batch:   0%|          | 0/501 [00:00<?, ?it/s]"
      ]
     },
     "metadata": {},
     "output_type": "display_data"
    },
    {
     "data": {
      "application/vnd.jupyter.widget-view+json": {
       "model_id": "",
       "version_major": 2,
       "version_minor": 0
      },
      "text/plain": [
       "Batch:   0%|          | 0/501 [00:00<?, ?it/s]"
      ]
     },
     "metadata": {},
     "output_type": "display_data"
    },
    {
     "data": {
      "application/vnd.jupyter.widget-view+json": {
       "model_id": "",
       "version_major": 2,
       "version_minor": 0
      },
      "text/plain": [
       "Batch:   0%|          | 0/501 [00:00<?, ?it/s]"
      ]
     },
     "metadata": {},
     "output_type": "display_data"
    },
    {
     "data": {
      "application/vnd.jupyter.widget-view+json": {
       "model_id": "",
       "version_major": 2,
       "version_minor": 0
      },
      "text/plain": [
       "Batch:   0%|          | 0/501 [00:00<?, ?it/s]"
      ]
     },
     "metadata": {},
     "output_type": "display_data"
    },
    {
     "data": {
      "application/vnd.jupyter.widget-view+json": {
       "model_id": "",
       "version_major": 2,
       "version_minor": 0
      },
      "text/plain": [
       "Batch:   0%|          | 0/501 [00:00<?, ?it/s]"
      ]
     },
     "metadata": {},
     "output_type": "display_data"
    },
    {
     "data": {
      "application/vnd.jupyter.widget-view+json": {
       "model_id": "",
       "version_major": 2,
       "version_minor": 0
      },
      "text/plain": [
       "Batch:   0%|          | 0/501 [00:00<?, ?it/s]"
      ]
     },
     "metadata": {},
     "output_type": "display_data"
    },
    {
     "data": {
      "application/vnd.jupyter.widget-view+json": {
       "model_id": "",
       "version_major": 2,
       "version_minor": 0
      },
      "text/plain": [
       "Batch:   0%|          | 0/501 [00:00<?, ?it/s]"
      ]
     },
     "metadata": {},
     "output_type": "display_data"
    },
    {
     "data": {
      "application/vnd.jupyter.widget-view+json": {
       "model_id": "",
       "version_major": 2,
       "version_minor": 0
      },
      "text/plain": [
       "Batch:   0%|          | 0/501 [00:00<?, ?it/s]"
      ]
     },
     "metadata": {},
     "output_type": "display_data"
    },
    {
     "data": {
      "application/vnd.jupyter.widget-view+json": {
       "model_id": "",
       "version_major": 2,
       "version_minor": 0
      },
      "text/plain": [
       "Batch:   0%|          | 0/501 [00:00<?, ?it/s]"
      ]
     },
     "metadata": {},
     "output_type": "display_data"
    },
    {
     "data": {
      "application/vnd.jupyter.widget-view+json": {
       "model_id": "",
       "version_major": 2,
       "version_minor": 0
      },
      "text/plain": [
       "Batch:   0%|          | 0/501 [00:00<?, ?it/s]"
      ]
     },
     "metadata": {},
     "output_type": "display_data"
    },
    {
     "data": {
      "application/vnd.jupyter.widget-view+json": {
       "model_id": "",
       "version_major": 2,
       "version_minor": 0
      },
      "text/plain": [
       "Batch:   0%|          | 0/501 [00:00<?, ?it/s]"
      ]
     },
     "metadata": {},
     "output_type": "display_data"
    },
    {
     "data": {
      "application/vnd.jupyter.widget-view+json": {
       "model_id": "fb7a32388d5e4693b69ef754473e8cb4",
       "version_major": 2,
       "version_minor": 0
      },
      "text/plain": [
       "Batch:   0%|          | 0/501 [00:00<?, ?it/s]"
      ]
     },
     "metadata": {},
     "output_type": "display_data"
    }
   ],
   "source": [
    "net = FCRes_Net(32 * 32 * 3, 10, [1024], block_depth=3)\n",
    "# net = FCNet([32 * 32 * 3, 1024, 1024, 512, 512, 256, 256, 10], Bstd=0.05)\n",
    "# net = FCNet([32 * 32 * 3, 1024, 10], Bstd=0.05)\n",
    "d = train(net, train_loader, 100, test_loader)"
   ]
  },
  {
   "cell_type": "code",
   "execution_count": null,
   "id": "82aed44e-0e52-406b-b6a1-d4a8cfbb2295",
   "metadata": {},
   "outputs": [],
   "source": [
    "save_dir = '/home/cpsc490_ac2788/CPSC490/figures/report2/fig4/'\n",
    "os.makedirs(save_dir, exist_ok=True)\n",
    "plt.savefig(save_dir + \"fig4.png\")"
   ]
  },
  {
   "cell_type": "code",
   "execution_count": null,
   "id": "c97b8aa3-198f-4d17-9aad-764fa1524f66",
   "metadata": {},
   "outputs": [],
   "source": [
    "print(net)"
   ]
  },
  {
   "cell_type": "code",
   "execution_count": null,
   "id": "a6cba1af-df06-476a-90c1-dfed5ee70b04",
   "metadata": {},
   "outputs": [],
   "source": [
    "net = FCRes_Net(32 * 32 * 3, 10, [1000, 700, 500, 300])\n",
    "train(net, train_loader, 10, test_loader)"
   ]
  },
  {
   "cell_type": "code",
   "execution_count": null,
   "id": "a153f0ae-a111-4318-80dc-8211e720fdcb",
   "metadata": {},
   "outputs": [],
   "source": [
    "@dataclass\n",
    "class ConvData:\n",
    "    in_c: int\n",
    "    out_c: int\n",
    "    k_sz: int\n",
    "    stride: int\n",
    "\n",
    "class CNNNet(nn.Module):\n",
    "    def __init__(self, conv_data, fc_layer_sizes, B_mean_zero=True, Bstd=0.05, output_dim=None):\n",
    "        super(CNNNet, self).__init__()\n",
    "        \n",
    "        self.layers_list = [nn.Sequential(nn.Conv2d(cd.in_c, cd.out_c, cd.k_sz, stride=cd.stride, bias=False), nn.Tanh()) for cd in conv_data]\n",
    "        self.unfolds = [nn.Unfold(cd.k_sz, stride=cd.stride) for cd in conv_data]\n",
    "        self.layers_list.append(nn.Flatten())\n",
    "        self.layers_list += [nn.Sequential(nn.Linear(in_size, out_size, bias=False), nn.Tanh()) for in_size, out_size in zip(fc_layer_sizes, fc_layer_sizes[1:])]\n",
    "        \n",
    "        self.layers = nn.Sequential(*self.layers_list)\n",
    "        \n",
    "        self.activations = [None] * len(self.layers)\n",
    "        \n",
    "        for l, layer in enumerate(self.layers):\n",
    "            layer.register_forward_hook(collect_activations(self, l))\n",
    "            \n",
    "        self.B = generate_B(784, B_mean_zero=True, Bstd=0.05)\n",
    "        \n",
    "            \n",
    "    def forward(self, x):\n",
    "        return self.layers(x)\n",
    "    \n",
    "    def update(self, x, e, first_block=True, last_block=True):\n",
    "        \n",
    "        if first_block:\n",
    "            print(x.shape, e.shape, self.B.T.shape, (e @ self.B.T).shape)\n",
    "            hl_err = x + (e @ self.B.T)\n",
    "        else:\n",
    "            hl_err = x\n",
    "        \n",
    "        forward_activations = self.activations\n",
    "        modulated_forward = self.forward(hl_err)\n",
    "        modulated_activations = self.activations\n",
    "        \n",
    "        for l, layer in enumerate(self.layers):\n",
    "            if (l == len(self.layers) - 1) and last_block:\n",
    "                dwl = e.T @ (modulated_activations[l - 1] if l != 0 else x)\n",
    "            else:\n",
    "                dwl = (forward_activations[l] - modulated_activations[l]).T @ (modulated_activations[l - 1] if l != 0 else x)\n",
    "            layer[0].weight -= learning_rate * dwl / batch_size\n",
    "            \n",
    "        return modulated_forward"
   ]
  },
  {
   "cell_type": "code",
   "execution_count": null,
   "id": "e3dce222-74d8-4123-99bf-0b347f958c39",
   "metadata": {},
   "outputs": [],
   "source": [
    "net = CNNNet([ConvData(1, 16, 7, 4), ConvData(16, 4, 2, 1)], [100, 10])\n",
    "x = torch.rand(120, 1, 28, 28)\n",
    "net(x)"
   ]
  },
  {
   "cell_type": "code",
   "execution_count": null,
   "id": "66e599dc-8ca1-4498-b75d-759bae8d2d86",
   "metadata": {},
   "outputs": [],
   "source": [
    "net.layers[0][0].weight += "
   ]
  },
  {
   "cell_type": "code",
   "execution_count": null,
   "id": "a30326de-7332-4a9b-85e2-5a32ff69ae1d",
   "metadata": {},
   "outputs": [],
   "source": [
    "net.activations[0].reshape(120, 1, 16, 36).shape"
   ]
  },
  {
   "cell_type": "code",
   "execution_count": null,
   "id": "ad540431-aafe-4f0c-9c97-42729941b935",
   "metadata": {},
   "outputs": [],
   "source": [
    "torch.mean(net.activations[0].reshape(120, 1, 16, 36) * net.unfolds[0](x).reshape(120, 49, 1, 36), axis=(0, 1, 3))"
   ]
  },
  {
   "cell_type": "code",
   "execution_count": null,
   "id": "755c1139-c6a9-4c8f-b315-bf0cad3bd0d3",
   "metadata": {},
   "outputs": [],
   "source": [
    "net.unfolds[0](x).reshape(120, 49, 1, 36).shape"
   ]
  },
  {
   "cell_type": "code",
   "execution_count": null,
   "id": "943731d9-8aff-4513-b078-fffed17c2e71",
   "metadata": {},
   "outputs": [],
   "source": [
    "torch.mean(net.activations[0].reshape(120, 16, 36)[:,:1,:] * net.unfolds[0](x))"
   ]
  },
  {
   "cell_type": "code",
   "execution_count": null,
   "id": "b9391a36-539c-416c-988a-e8020d83f90b",
   "metadata": {},
   "outputs": [],
   "source": [
    "net = FCRes_Net(784, 10, [1000, 700, 500, 300])\n",
    "net"
   ]
  },
  {
   "cell_type": "code",
   "execution_count": null,
   "id": "9a55a8a1-3733-4726-bfc1-6c93cb8d5456",
   "metadata": {},
   "outputs": [],
   "source": []
  }
 ],
 "metadata": {
  "kernelspec": {
   "display_name": "Python 3 (ipykernel)",
   "language": "python",
   "name": "python3"
  },
  "language_info": {
   "codemirror_mode": {
    "name": "ipython",
    "version": 3
   },
   "file_extension": ".py",
   "mimetype": "text/x-python",
   "name": "python",
   "nbconvert_exporter": "python",
   "pygments_lexer": "ipython3",
   "version": "3.9.10"
  }
 },
 "nbformat": 4,
 "nbformat_minor": 5
}
